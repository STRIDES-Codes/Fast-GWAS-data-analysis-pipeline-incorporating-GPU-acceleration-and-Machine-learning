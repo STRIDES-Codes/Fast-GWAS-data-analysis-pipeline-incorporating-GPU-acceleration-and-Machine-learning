{
 "cells": [
  {
   "cell_type": "code",
   "execution_count": null,
   "metadata": {},
   "outputs": [],
   "source": [
    "import sys,os"
   ]
  },
  {
   "cell_type": "code",
   "execution_count": null,
   "metadata": {},
   "outputs": [],
   "source": [
    "sys.path.append(\"/opt/notebooks/GPU-GWAS/\")\n",
    "os.chdir(\"/opt/notebooks/GPU-GWAS/\")"
   ]
  },
  {
   "cell_type": "code",
   "execution_count": null,
   "metadata": {},
   "outputs": [],
   "source": [
    "import argparse\n",
    "import time\n",
    "from collections import defaultdict\n",
    "\n",
    "import cupy as cp\n",
    "import cudf\n",
    "import pandas as pd\n",
    "import rmm\n",
    "\n",
    "%matplotlib inline\n",
    "import matplotlib.pyplot as plt\n",
    "import numpy as np\n",
    "\n",
    "import gpugwas.io as gwasio\n",
    "import gpugwas.algorithms as algos\n",
    "import gpugwas.viz as viz\n",
    "import gpugwas.dataprep as dp\n",
    "import gpugwas.runner as runner\n",
    "from gpugwas.vizb import show_qq_plot, show_manhattan_plot"
   ]
  },
  {
   "cell_type": "code",
   "execution_count": null,
   "metadata": {},
   "outputs": [],
   "source": [
    "vcf_path='./data/test.vcf'\n",
    "annotation_path='./data/1kg_annotations.txt'"
   ]
  },
  {
   "cell_type": "code",
   "execution_count": null,
   "metadata": {},
   "outputs": [],
   "source": [
    "# Initialize Memory Pool to 10GB\n",
    "cudf.set_allocator(pool=True, initial_pool_size=1e10)\n",
    "cp.cuda.set_allocator(rmm.rmm_cupy_allocator)"
   ]
  },
  {
   "cell_type": "markdown",
   "metadata": {},
   "source": [
    "## Load data into dataframes"
   ]
  },
  {
   "cell_type": "code",
   "execution_count": null,
   "metadata": {},
   "outputs": [],
   "source": [
    "# Load data\n",
    "vcf_df, feature_mapping = gwasio.load_vcf(vcf_path, info_keys=[], format_keys=[\"GT\"])\n",
    "#vcf_df = cudf.io.parquet.read_parquet(\"data/1kg_full_jdaw_v2.pqt\")\n",
    "#feature_mapping = vcf_df[[\"chrom\", \"pos\", \"feature_id\"]].to_pandas()\n",
    "ann_df = gwasio.load_annotations(annotation_path)\n",
    "print(vcf_df)\n",
    "print(\"==\")\n",
    "print(ann_df)"
   ]
  },
  {
   "cell_type": "markdown",
   "metadata": {},
   "source": [
    "## Generate phenotype dataframe by merging vcf and annotation DF"
   ]
  },
  {
   "cell_type": "code",
   "execution_count": null,
   "metadata": {},
   "outputs": [],
   "source": [
    "phenotypes_df, features = dp.create_phenotype_df(vcf_df, ann_df, ['CaffeineConsumption','isFemale','SuperPopulation'], \"call_GT\",\n",
    "                                       vcf_sample_col=\"sample\", ann_sample_col=\"Sample\")"
   ]
  },
  {
   "cell_type": "markdown",
   "metadata": {},
   "source": [
    "## Run PCA on phenotype matrix"
   ]
  },
  {
   "cell_type": "code",
   "execution_count": null,
   "metadata": {},
   "outputs": [],
   "source": [
    "# Run PCA on phenotype dataframe\n",
    "phenotypes_df = algos.PCA_concat(phenotypes_df, 2)\n",
    "print(phenotypes_df)"
   ]
  },
  {
   "cell_type": "code",
   "execution_count": null,
   "metadata": {},
   "outputs": [],
   "source": [
    "colors = {'AFR':'red', 'AMR':'green', 'EAS':'blue', 'EUR':'yellow', 'SAS':'purple'}\n",
    "from matplotlib.lines import Line2D\n",
    "plt.scatter(phenotypes_df.PC0.to_array(), phenotypes_df.PC1.to_array(), \n",
    "            c=phenotypes_df.SuperPopulation.to_pandas().map(colors).values, s=9)\n",
    "legend_elements = [Line2D([0], [0], marker='o', color='w', label=key, \n",
    "                          markerfacecolor=value) for key, value in colors.items()]\n",
    "plt.legend(handles=legend_elements)"
   ]
  },
  {
   "cell_type": "markdown",
   "metadata": {},
   "source": [
    "## Run GWAS with linear regression for each independent variant"
   ]
  },
  {
   "cell_type": "code",
   "execution_count": null,
   "metadata": {},
   "outputs": [],
   "source": [
    "# Fit linear regression model for each variant feature\n",
    "print(\"Fitting linear regression model\")\n",
    "\n",
    "df = runner.run_gwas(phenotypes_df, 'CaffeineConsumption', features, algos.cuml_LinearReg, add_cols=['PC0', 'PC1'])\n",
    "print(df)"
   ]
  },
  {
   "cell_type": "code",
   "execution_count": null,
   "metadata": {},
   "outputs": [],
   "source": [
    "plt.hist(-np.log(df[\"p_value\"].to_array()), bins = np.linspace(0,1,100));"
   ]
  },
  {
   "cell_type": "code",
   "execution_count": null,
   "metadata": {},
   "outputs": [],
   "source": [
    "df.drop(columns=\"chrom\", inplace=True)\n",
    "g_feature_mapping = cudf.DataFrame(feature_mapping[[\"feature_id\", \"pos\", \"chrom\"]])\n",
    "df = df.merge(g_feature_mapping, how=\"inner\", left_on=[\"feature\"], right_on=[\"feature_id\"])\n",
    "df.chrom = df.chrom.astype(\\\"int64\\\")"
   ]
  },
  {
   "cell_type": "code",
   "execution_count": null,
   "metadata": {},
   "outputs": [],
   "source": [
    "show_manhattan_plot(df, 'chrom', 'pos', 'p_value', title='GWAS Manhattan Plot')"
   ]
  },
  {
   "cell_type": "code",
   "execution_count": null,
   "metadata": {},
   "outputs": [],
   "source": [
    "a = df[\"p_value\"].to_array()\n",
    "a.sort()\n",
    "expect_p = np.linspace(0, 1, len(a))"
   ]
  },
  {
   "cell_type": "code",
   "execution_count": null,
   "metadata": {},
   "outputs": [],
   "source": [
    "df[\"e_value\"] = np.linspace(0, 1, len(a))\n",
    "df[\"p_s_value\"] = a\n",
    "show_qq_plot(df, 'e_value', 'p_s_value', x_max=3, y_max=3)"
   ]
  }
 ],
 "metadata": {
  "kernelspec": {
   "display_name": "hail-Rapids-16",
   "language": "python",
   "name": "hail-rapids-16"
  },
  "language_info": {
   "codemirror_mode": {
    "name": "ipython",
    "version": 3
   },
   "file_extension": ".py",
   "mimetype": "text/x-python",
   "name": "python",
   "nbconvert_exporter": "python",
   "pygments_lexer": "ipython3",
   "version": "3.7.9"
  }
 },
 "nbformat": 4,
 "nbformat_minor": 4
}
