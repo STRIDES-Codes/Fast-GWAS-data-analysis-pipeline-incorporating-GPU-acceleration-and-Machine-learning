{
 "cells": [
  {
   "cell_type": "code",
   "execution_count": 1,
   "metadata": {},
   "outputs": [],
   "source": [
    "import sys,os"
   ]
  },
  {
   "cell_type": "code",
   "execution_count": 2,
   "metadata": {},
   "outputs": [],
   "source": [
    "# sys.path.append(\"/opt/notebooks/GPU-GWAS/\")\n",
    "# os.chdir(\"/opt/notebooks/GPU-GWAS/\")"
   ]
  },
  {
   "cell_type": "code",
   "execution_count": 3,
   "metadata": {},
   "outputs": [
    {
     "data": {
      "text/html": [
       "\n",
       "    <div class=\"bk-root\">\n",
       "        <a href=\"https://bokeh.org\" target=\"_blank\" class=\"bk-logo bk-logo-small bk-logo-notebook\"></a>\n",
       "        <span id=\"1001\">Loading BokehJS ...</span>\n",
       "    </div>"
      ]
     },
     "metadata": {},
     "output_type": "display_data"
    },
    {
     "data": {
      "application/javascript": [
       "\n",
       "(function(root) {\n",
       "  function now() {\n",
       "    return new Date();\n",
       "  }\n",
       "\n",
       "  var force = true;\n",
       "\n",
       "  if (typeof root._bokeh_onload_callbacks === \"undefined\" || force === true) {\n",
       "    root._bokeh_onload_callbacks = [];\n",
       "    root._bokeh_is_loading = undefined;\n",
       "  }\n",
       "\n",
       "  var JS_MIME_TYPE = 'application/javascript';\n",
       "  var HTML_MIME_TYPE = 'text/html';\n",
       "  var EXEC_MIME_TYPE = 'application/vnd.bokehjs_exec.v0+json';\n",
       "  var CLASS_NAME = 'output_bokeh rendered_html';\n",
       "\n",
       "  /**\n",
       "   * Render data to the DOM node\n",
       "   */\n",
       "  function render(props, node) {\n",
       "    var script = document.createElement(\"script\");\n",
       "    node.appendChild(script);\n",
       "  }\n",
       "\n",
       "  /**\n",
       "   * Handle when an output is cleared or removed\n",
       "   */\n",
       "  function handleClearOutput(event, handle) {\n",
       "    var cell = handle.cell;\n",
       "\n",
       "    var id = cell.output_area._bokeh_element_id;\n",
       "    var server_id = cell.output_area._bokeh_server_id;\n",
       "    // Clean up Bokeh references\n",
       "    if (id != null && id in Bokeh.index) {\n",
       "      Bokeh.index[id].model.document.clear();\n",
       "      delete Bokeh.index[id];\n",
       "    }\n",
       "\n",
       "    if (server_id !== undefined) {\n",
       "      // Clean up Bokeh references\n",
       "      var cmd = \"from bokeh.io.state import curstate; print(curstate().uuid_to_server['\" + server_id + \"'].get_sessions()[0].document.roots[0]._id)\";\n",
       "      cell.notebook.kernel.execute(cmd, {\n",
       "        iopub: {\n",
       "          output: function(msg) {\n",
       "            var id = msg.content.text.trim();\n",
       "            if (id in Bokeh.index) {\n",
       "              Bokeh.index[id].model.document.clear();\n",
       "              delete Bokeh.index[id];\n",
       "            }\n",
       "          }\n",
       "        }\n",
       "      });\n",
       "      // Destroy server and session\n",
       "      var cmd = \"import bokeh.io.notebook as ion; ion.destroy_server('\" + server_id + \"')\";\n",
       "      cell.notebook.kernel.execute(cmd);\n",
       "    }\n",
       "  }\n",
       "\n",
       "  /**\n",
       "   * Handle when a new output is added\n",
       "   */\n",
       "  function handleAddOutput(event, handle) {\n",
       "    var output_area = handle.output_area;\n",
       "    var output = handle.output;\n",
       "\n",
       "    // limit handleAddOutput to display_data with EXEC_MIME_TYPE content only\n",
       "    if ((output.output_type != \"display_data\") || (!output.data.hasOwnProperty(EXEC_MIME_TYPE))) {\n",
       "      return\n",
       "    }\n",
       "\n",
       "    var toinsert = output_area.element.find(\".\" + CLASS_NAME.split(' ')[0]);\n",
       "\n",
       "    if (output.metadata[EXEC_MIME_TYPE][\"id\"] !== undefined) {\n",
       "      toinsert[toinsert.length - 1].firstChild.textContent = output.data[JS_MIME_TYPE];\n",
       "      // store reference to embed id on output_area\n",
       "      output_area._bokeh_element_id = output.metadata[EXEC_MIME_TYPE][\"id\"];\n",
       "    }\n",
       "    if (output.metadata[EXEC_MIME_TYPE][\"server_id\"] !== undefined) {\n",
       "      var bk_div = document.createElement(\"div\");\n",
       "      bk_div.innerHTML = output.data[HTML_MIME_TYPE];\n",
       "      var script_attrs = bk_div.children[0].attributes;\n",
       "      for (var i = 0; i < script_attrs.length; i++) {\n",
       "        toinsert[toinsert.length - 1].firstChild.setAttribute(script_attrs[i].name, script_attrs[i].value);\n",
       "        toinsert[toinsert.length - 1].firstChild.textContent = bk_div.children[0].textContent\n",
       "      }\n",
       "      // store reference to server id on output_area\n",
       "      output_area._bokeh_server_id = output.metadata[EXEC_MIME_TYPE][\"server_id\"];\n",
       "    }\n",
       "  }\n",
       "\n",
       "  function register_renderer(events, OutputArea) {\n",
       "\n",
       "    function append_mime(data, metadata, element) {\n",
       "      // create a DOM node to render to\n",
       "      var toinsert = this.create_output_subarea(\n",
       "        metadata,\n",
       "        CLASS_NAME,\n",
       "        EXEC_MIME_TYPE\n",
       "      );\n",
       "      this.keyboard_manager.register_events(toinsert);\n",
       "      // Render to node\n",
       "      var props = {data: data, metadata: metadata[EXEC_MIME_TYPE]};\n",
       "      render(props, toinsert[toinsert.length - 1]);\n",
       "      element.append(toinsert);\n",
       "      return toinsert\n",
       "    }\n",
       "\n",
       "    /* Handle when an output is cleared or removed */\n",
       "    events.on('clear_output.CodeCell', handleClearOutput);\n",
       "    events.on('delete.Cell', handleClearOutput);\n",
       "\n",
       "    /* Handle when a new output is added */\n",
       "    events.on('output_added.OutputArea', handleAddOutput);\n",
       "\n",
       "    /**\n",
       "     * Register the mime type and append_mime function with output_area\n",
       "     */\n",
       "    OutputArea.prototype.register_mime_type(EXEC_MIME_TYPE, append_mime, {\n",
       "      /* Is output safe? */\n",
       "      safe: true,\n",
       "      /* Index of renderer in `output_area.display_order` */\n",
       "      index: 0\n",
       "    });\n",
       "  }\n",
       "\n",
       "  // register the mime type if in Jupyter Notebook environment and previously unregistered\n",
       "  if (root.Jupyter !== undefined) {\n",
       "    var events = require('base/js/events');\n",
       "    var OutputArea = require('notebook/js/outputarea').OutputArea;\n",
       "\n",
       "    if (OutputArea.prototype.mime_types().indexOf(EXEC_MIME_TYPE) == -1) {\n",
       "      register_renderer(events, OutputArea);\n",
       "    }\n",
       "  }\n",
       "\n",
       "  \n",
       "  if (typeof (root._bokeh_timeout) === \"undefined\" || force === true) {\n",
       "    root._bokeh_timeout = Date.now() + 5000;\n",
       "    root._bokeh_failed_load = false;\n",
       "  }\n",
       "\n",
       "  var NB_LOAD_WARNING = {'data': {'text/html':\n",
       "     \"<div style='background-color: #fdd'>\\n\"+\n",
       "     \"<p>\\n\"+\n",
       "     \"BokehJS does not appear to have successfully loaded. If loading BokehJS from CDN, this \\n\"+\n",
       "     \"may be due to a slow or bad network connection. Possible fixes:\\n\"+\n",
       "     \"</p>\\n\"+\n",
       "     \"<ul>\\n\"+\n",
       "     \"<li>re-rerun `output_notebook()` to attempt to load from CDN again, or</li>\\n\"+\n",
       "     \"<li>use INLINE resources instead, as so:</li>\\n\"+\n",
       "     \"</ul>\\n\"+\n",
       "     \"<code>\\n\"+\n",
       "     \"from bokeh.resources import INLINE\\n\"+\n",
       "     \"output_notebook(resources=INLINE)\\n\"+\n",
       "     \"</code>\\n\"+\n",
       "     \"</div>\"}};\n",
       "\n",
       "  function display_loaded() {\n",
       "    var el = document.getElementById(\"1001\");\n",
       "    if (el != null) {\n",
       "      el.textContent = \"BokehJS is loading...\";\n",
       "    }\n",
       "    if (root.Bokeh !== undefined) {\n",
       "      if (el != null) {\n",
       "        el.textContent = \"BokehJS \" + root.Bokeh.version + \" successfully loaded.\";\n",
       "      }\n",
       "    } else if (Date.now() < root._bokeh_timeout) {\n",
       "      setTimeout(display_loaded, 100)\n",
       "    }\n",
       "  }\n",
       "\n",
       "\n",
       "  function run_callbacks() {\n",
       "    try {\n",
       "      root._bokeh_onload_callbacks.forEach(function(callback) {\n",
       "        if (callback != null)\n",
       "          callback();\n",
       "      });\n",
       "    } finally {\n",
       "      delete root._bokeh_onload_callbacks\n",
       "    }\n",
       "    console.debug(\"Bokeh: all callbacks have finished\");\n",
       "  }\n",
       "\n",
       "  function load_libs(css_urls, js_urls, callback) {\n",
       "    if (css_urls == null) css_urls = [];\n",
       "    if (js_urls == null) js_urls = [];\n",
       "\n",
       "    root._bokeh_onload_callbacks.push(callback);\n",
       "    if (root._bokeh_is_loading > 0) {\n",
       "      console.debug(\"Bokeh: BokehJS is being loaded, scheduling callback at\", now());\n",
       "      return null;\n",
       "    }\n",
       "    if (js_urls == null || js_urls.length === 0) {\n",
       "      run_callbacks();\n",
       "      return null;\n",
       "    }\n",
       "    console.debug(\"Bokeh: BokehJS not loaded, scheduling load and callback at\", now());\n",
       "    root._bokeh_is_loading = css_urls.length + js_urls.length;\n",
       "\n",
       "    function on_load() {\n",
       "      root._bokeh_is_loading--;\n",
       "      if (root._bokeh_is_loading === 0) {\n",
       "        console.debug(\"Bokeh: all BokehJS libraries/stylesheets loaded\");\n",
       "        run_callbacks()\n",
       "      }\n",
       "    }\n",
       "\n",
       "    function on_error() {\n",
       "      console.error(\"failed to load \" + url);\n",
       "    }\n",
       "\n",
       "    for (var i = 0; i < css_urls.length; i++) {\n",
       "      var url = css_urls[i];\n",
       "      const element = document.createElement(\"link\");\n",
       "      element.onload = on_load;\n",
       "      element.onerror = on_error;\n",
       "      element.rel = \"stylesheet\";\n",
       "      element.type = \"text/css\";\n",
       "      element.href = url;\n",
       "      console.debug(\"Bokeh: injecting link tag for BokehJS stylesheet: \", url);\n",
       "      document.body.appendChild(element);\n",
       "    }\n",
       "\n",
       "    const hashes = {\"https://cdn.bokeh.org/bokeh/release/bokeh-2.2.0.min.js\": \"jtq3UzIrk2TfDZfSNGEN0ICKrRWmtzZSQm6i1Xnd3hY3UfU9m98vuEL7JUv7Iway\", \"https://cdn.bokeh.org/bokeh/release/bokeh-widgets-2.2.0.min.js\": \"rRlSZb4FImflqQNhKcvkZq8b+FqcNFxP9CmCO8Vgo9uNXe6wk6yNMlKMrXn+TjeM\", \"https://cdn.bokeh.org/bokeh/release/bokeh-tables-2.2.0.min.js\": \"MJyUmyL5f4wPlABPEp4CF5HzMeAPMvzucE8gEGNH15tAWgHFb2hsPNIEkva89XtP\"};\n",
       "\n",
       "    for (var i = 0; i < js_urls.length; i++) {\n",
       "      var url = js_urls[i];\n",
       "      var element = document.createElement('script');\n",
       "      element.onload = on_load;\n",
       "      element.onerror = on_error;\n",
       "      element.async = false;\n",
       "      element.src = url;\n",
       "      if (url in hashes) {\n",
       "        element.crossOrigin = \"anonymous\";\n",
       "        element.integrity = \"sha384-\" + hashes[url];\n",
       "      }\n",
       "      console.debug(\"Bokeh: injecting script tag for BokehJS library: \", url);\n",
       "      document.head.appendChild(element);\n",
       "    }\n",
       "  };\n",
       "\n",
       "  function inject_raw_css(css) {\n",
       "    const element = document.createElement(\"style\");\n",
       "    element.appendChild(document.createTextNode(css));\n",
       "    document.body.appendChild(element);\n",
       "  }\n",
       "\n",
       "  \n",
       "  var js_urls = [\"https://cdn.bokeh.org/bokeh/release/bokeh-2.2.0.min.js\", \"https://cdn.bokeh.org/bokeh/release/bokeh-widgets-2.2.0.min.js\", \"https://cdn.bokeh.org/bokeh/release/bokeh-tables-2.2.0.min.js\"];\n",
       "  var css_urls = [];\n",
       "  \n",
       "\n",
       "  var inline_js = [\n",
       "    function(Bokeh) {\n",
       "      Bokeh.set_log_level(\"info\");\n",
       "    },\n",
       "    function(Bokeh) {\n",
       "    \n",
       "    \n",
       "    }\n",
       "  ];\n",
       "\n",
       "  function run_inline_js() {\n",
       "    \n",
       "    if (root.Bokeh !== undefined || force === true) {\n",
       "      \n",
       "    for (var i = 0; i < inline_js.length; i++) {\n",
       "      inline_js[i].call(root, root.Bokeh);\n",
       "    }\n",
       "    if (force === true) {\n",
       "        display_loaded();\n",
       "      }} else if (Date.now() < root._bokeh_timeout) {\n",
       "      setTimeout(run_inline_js, 100);\n",
       "    } else if (!root._bokeh_failed_load) {\n",
       "      console.log(\"Bokeh: BokehJS failed to load within specified timeout.\");\n",
       "      root._bokeh_failed_load = true;\n",
       "    } else if (force !== true) {\n",
       "      var cell = $(document.getElementById(\"1001\")).parents('.cell').data().cell;\n",
       "      cell.output_area.append_execute_result(NB_LOAD_WARNING)\n",
       "    }\n",
       "\n",
       "  }\n",
       "\n",
       "  if (root._bokeh_is_loading === 0) {\n",
       "    console.debug(\"Bokeh: BokehJS loaded, going straight to plotting\");\n",
       "    run_inline_js();\n",
       "  } else {\n",
       "    load_libs(css_urls, js_urls, function() {\n",
       "      console.debug(\"Bokeh: BokehJS plotting callback run at\", now());\n",
       "      run_inline_js();\n",
       "    });\n",
       "  }\n",
       "}(window));"
      ],
      "application/vnd.bokehjs_load.v0+json": "\n(function(root) {\n  function now() {\n    return new Date();\n  }\n\n  var force = true;\n\n  if (typeof root._bokeh_onload_callbacks === \"undefined\" || force === true) {\n    root._bokeh_onload_callbacks = [];\n    root._bokeh_is_loading = undefined;\n  }\n\n  \n\n  \n  if (typeof (root._bokeh_timeout) === \"undefined\" || force === true) {\n    root._bokeh_timeout = Date.now() + 5000;\n    root._bokeh_failed_load = false;\n  }\n\n  var NB_LOAD_WARNING = {'data': {'text/html':\n     \"<div style='background-color: #fdd'>\\n\"+\n     \"<p>\\n\"+\n     \"BokehJS does not appear to have successfully loaded. If loading BokehJS from CDN, this \\n\"+\n     \"may be due to a slow or bad network connection. Possible fixes:\\n\"+\n     \"</p>\\n\"+\n     \"<ul>\\n\"+\n     \"<li>re-rerun `output_notebook()` to attempt to load from CDN again, or</li>\\n\"+\n     \"<li>use INLINE resources instead, as so:</li>\\n\"+\n     \"</ul>\\n\"+\n     \"<code>\\n\"+\n     \"from bokeh.resources import INLINE\\n\"+\n     \"output_notebook(resources=INLINE)\\n\"+\n     \"</code>\\n\"+\n     \"</div>\"}};\n\n  function display_loaded() {\n    var el = document.getElementById(\"1001\");\n    if (el != null) {\n      el.textContent = \"BokehJS is loading...\";\n    }\n    if (root.Bokeh !== undefined) {\n      if (el != null) {\n        el.textContent = \"BokehJS \" + root.Bokeh.version + \" successfully loaded.\";\n      }\n    } else if (Date.now() < root._bokeh_timeout) {\n      setTimeout(display_loaded, 100)\n    }\n  }\n\n\n  function run_callbacks() {\n    try {\n      root._bokeh_onload_callbacks.forEach(function(callback) {\n        if (callback != null)\n          callback();\n      });\n    } finally {\n      delete root._bokeh_onload_callbacks\n    }\n    console.debug(\"Bokeh: all callbacks have finished\");\n  }\n\n  function load_libs(css_urls, js_urls, callback) {\n    if (css_urls == null) css_urls = [];\n    if (js_urls == null) js_urls = [];\n\n    root._bokeh_onload_callbacks.push(callback);\n    if (root._bokeh_is_loading > 0) {\n      console.debug(\"Bokeh: BokehJS is being loaded, scheduling callback at\", now());\n      return null;\n    }\n    if (js_urls == null || js_urls.length === 0) {\n      run_callbacks();\n      return null;\n    }\n    console.debug(\"Bokeh: BokehJS not loaded, scheduling load and callback at\", now());\n    root._bokeh_is_loading = css_urls.length + js_urls.length;\n\n    function on_load() {\n      root._bokeh_is_loading--;\n      if (root._bokeh_is_loading === 0) {\n        console.debug(\"Bokeh: all BokehJS libraries/stylesheets loaded\");\n        run_callbacks()\n      }\n    }\n\n    function on_error() {\n      console.error(\"failed to load \" + url);\n    }\n\n    for (var i = 0; i < css_urls.length; i++) {\n      var url = css_urls[i];\n      const element = document.createElement(\"link\");\n      element.onload = on_load;\n      element.onerror = on_error;\n      element.rel = \"stylesheet\";\n      element.type = \"text/css\";\n      element.href = url;\n      console.debug(\"Bokeh: injecting link tag for BokehJS stylesheet: \", url);\n      document.body.appendChild(element);\n    }\n\n    const hashes = {\"https://cdn.bokeh.org/bokeh/release/bokeh-2.2.0.min.js\": \"jtq3UzIrk2TfDZfSNGEN0ICKrRWmtzZSQm6i1Xnd3hY3UfU9m98vuEL7JUv7Iway\", \"https://cdn.bokeh.org/bokeh/release/bokeh-widgets-2.2.0.min.js\": \"rRlSZb4FImflqQNhKcvkZq8b+FqcNFxP9CmCO8Vgo9uNXe6wk6yNMlKMrXn+TjeM\", \"https://cdn.bokeh.org/bokeh/release/bokeh-tables-2.2.0.min.js\": \"MJyUmyL5f4wPlABPEp4CF5HzMeAPMvzucE8gEGNH15tAWgHFb2hsPNIEkva89XtP\"};\n\n    for (var i = 0; i < js_urls.length; i++) {\n      var url = js_urls[i];\n      var element = document.createElement('script');\n      element.onload = on_load;\n      element.onerror = on_error;\n      element.async = false;\n      element.src = url;\n      if (url in hashes) {\n        element.crossOrigin = \"anonymous\";\n        element.integrity = \"sha384-\" + hashes[url];\n      }\n      console.debug(\"Bokeh: injecting script tag for BokehJS library: \", url);\n      document.head.appendChild(element);\n    }\n  };\n\n  function inject_raw_css(css) {\n    const element = document.createElement(\"style\");\n    element.appendChild(document.createTextNode(css));\n    document.body.appendChild(element);\n  }\n\n  \n  var js_urls = [\"https://cdn.bokeh.org/bokeh/release/bokeh-2.2.0.min.js\", \"https://cdn.bokeh.org/bokeh/release/bokeh-widgets-2.2.0.min.js\", \"https://cdn.bokeh.org/bokeh/release/bokeh-tables-2.2.0.min.js\"];\n  var css_urls = [];\n  \n\n  var inline_js = [\n    function(Bokeh) {\n      Bokeh.set_log_level(\"info\");\n    },\n    function(Bokeh) {\n    \n    \n    }\n  ];\n\n  function run_inline_js() {\n    \n    if (root.Bokeh !== undefined || force === true) {\n      \n    for (var i = 0; i < inline_js.length; i++) {\n      inline_js[i].call(root, root.Bokeh);\n    }\n    if (force === true) {\n        display_loaded();\n      }} else if (Date.now() < root._bokeh_timeout) {\n      setTimeout(run_inline_js, 100);\n    } else if (!root._bokeh_failed_load) {\n      console.log(\"Bokeh: BokehJS failed to load within specified timeout.\");\n      root._bokeh_failed_load = true;\n    } else if (force !== true) {\n      var cell = $(document.getElementById(\"1001\")).parents('.cell').data().cell;\n      cell.output_area.append_execute_result(NB_LOAD_WARNING)\n    }\n\n  }\n\n  if (root._bokeh_is_loading === 0) {\n    console.debug(\"Bokeh: BokehJS loaded, going straight to plotting\");\n    run_inline_js();\n  } else {\n    load_libs(css_urls, js_urls, function() {\n      console.debug(\"Bokeh: BokehJS plotting callback run at\", now());\n      run_inline_js();\n    });\n  }\n}(window));"
     },
     "metadata": {},
     "output_type": "display_data"
    }
   ],
   "source": [
    "import argparse\n",
    "import time\n",
    "from collections import defaultdict\n",
    "\n",
    "import cupy as cp\n",
    "import cudf\n",
    "import pandas as pd\n",
    "\n",
    "import gpugwas.io as gwasio\n",
    "import gpugwas.algorithms as algos\n",
    "import gpugwas.dataprep as dp\n",
    "import gpugwas.runner as runner\n",
    "\n",
    "from gpugwas.vizb import show_qq_plot, show_manhattan_plot\n",
    "\n",
    "import warnings\n",
    "warnings.filterwarnings('ignore', 'Expected ')\n",
    "warnings.simplefilter('ignore')"
   ]
  },
  {
   "cell_type": "code",
   "execution_count": 4,
   "metadata": {},
   "outputs": [],
   "source": [
    "vcf_path='./data/test.vcf'\n",
    "annotation_path='./data/1kg_annotations.txt'"
   ]
  },
  {
   "cell_type": "markdown",
   "metadata": {},
   "source": [
    "## Load data into dataframes"
   ]
  },
  {
   "cell_type": "code",
   "execution_count": 5,
   "metadata": {},
   "outputs": [
    {
     "name": "stdout",
     "output_type": "stream",
     "text": [
      "[]\n",
      "['GT']\n",
      "       chrom        pos  ref  alt   sample        quality  feature_id  call_GT\n",
      "0          1     904165    3    1  HG00096   52346.371094           0        0\n",
      "1          1     904165    3    1  HG00099   52346.371094           0        0\n",
      "2          1     904165    3    1  HG00105   52346.371094           0        0\n",
      "3          1     904165    3    1  HG00118   52346.371094           0        0\n",
      "4          1     904165    3    1  HG00129   52346.371094           0        0\n",
      "...      ...        ...  ...  ...      ...            ...         ...      ...\n",
      "252755     1  245840409    2    1  NA21114  185501.015625         889        0\n",
      "252756     1  245840409    2    1  NA21116  185501.015625         889        1\n",
      "252757     1  245840409    2    1  NA21118  185501.015625         889        1\n",
      "252758     1  245840409    2    1  NA21133  185501.015625         889        1\n",
      "252759     1  245840409    2    1  NA21143  185501.015625         889        1\n",
      "\n",
      "[252760 rows x 8 columns]\n",
      "==\n",
      "       Sample Population SuperPopulation  isFemale  PurpleHair  \\\n",
      "0     HG00096        GBR             EUR     False       False   \n",
      "1     HG00097        GBR             EUR      True        True   \n",
      "2     HG00098        GBR             EUR     False       False   \n",
      "3     HG00099        GBR             EUR      True       False   \n",
      "4     HG00100        GBR             EUR      True       False   \n",
      "...       ...        ...             ...       ...         ...   \n",
      "3495  NA21137        GIH             SAS      True       False   \n",
      "3496  NA21141        GIH             SAS      True        True   \n",
      "3497  NA21142        GIH             SAS      True        True   \n",
      "3498  NA21143        GIH             SAS      True        True   \n",
      "3499  NA21144        GIH             SAS      True       False   \n",
      "\n",
      "      CaffeineConsumption  \n",
      "0                       4  \n",
      "1                       4  \n",
      "2                       5  \n",
      "3                       4  \n",
      "4                       5  \n",
      "...                   ...  \n",
      "3495                    1  \n",
      "3496                    2  \n",
      "3497                    2  \n",
      "3498                    5  \n",
      "3499                    3  \n",
      "\n",
      "[3500 rows x 6 columns]\n"
     ]
    }
   ],
   "source": [
    "# Load data\n",
    "vcf_df, feature_mapping = gwasio.load_vcf(vcf_path, info_keys=[], format_keys=[\"GT\"])\n",
    "#vcf_df = cudf.io.parquet.read_parquet(\"/data/1000-genomes/hail-dataset/1kg_full_jdaw_v2.pqt\")\n",
    "ann_df = gwasio.load_annotations(annotation_path)\n",
    "print(vcf_df)\n",
    "print(\"==\")\n",
    "print(ann_df)"
   ]
  },
  {
   "cell_type": "markdown",
   "metadata": {},
   "source": [
    "## Generate phenotype dataframe by merging vcf and annotation DF"
   ]
  },
  {
   "cell_type": "code",
   "execution_count": 6,
   "metadata": {},
   "outputs": [
    {
     "name": "stdout",
     "output_type": "stream",
     "text": [
      "Merging annotations\n",
      "         Sample Population SuperPopulation  isFemale  PurpleHair  \\\n",
      "0       NA20910        GIH             SAS      True       False   \n",
      "1       NA21101        GIH             SAS      True       False   \n",
      "2       NA21113        GIH             SAS     False        True   \n",
      "3       NA21114        GIH             SAS     False        True   \n",
      "4       NA21116        GIH             SAS     False        True   \n",
      "...         ...        ...             ...       ...         ...   \n",
      "252755  HG02771        GWD             AFR     False        True   \n",
      "252756  HG02792        PJL             SAS     False       False   \n",
      "252757  HG02798        GWD             AFR     False       False   \n",
      "252758  HG02811        GWD             AFR      True        True   \n",
      "252759  HG02814        GWD             AFR      True        True   \n",
      "\n",
      "        CaffeineConsumption chrom        pos  ref  alt   sample  \\\n",
      "0                         5     1    7999602    2    4  NA20910   \n",
      "1                         6     1    7999602    2    4  NA21101   \n",
      "2                         4     1    7999602    2    4  NA21113   \n",
      "3                         6     1    7999602    2    4  NA21114   \n",
      "4                         4     1    7999602    2    4  NA21116   \n",
      "...                     ...   ...        ...  ...  ...      ...   \n",
      "252755                    2     1  245557294    1    2  HG02771   \n",
      "252756                    5     1  245557294    1    2  HG02792   \n",
      "252757                    6     1  245557294    1    2  HG02798   \n",
      "252758                    7     1  245557294    1    2  HG02811   \n",
      "252759                    8     1  245557294    1    2  HG02814   \n",
      "\n",
      "              quality  feature_id  call_GT  \n",
      "0       105594.273438          21        0  \n",
      "1       105594.273438          21        0  \n",
      "2       105594.273438          21        0  \n",
      "3       105594.273438          21        0  \n",
      "4       105594.273438          21        0  \n",
      "...               ...         ...      ...  \n",
      "252755  432925.093750         888        1  \n",
      "252756  432925.093750         888        2  \n",
      "252757  432925.093750         888        2  \n",
      "252758  432925.093750         888        2  \n",
      "252759  432925.093750         888        2  \n",
      "\n",
      "[252760 rows x 14 columns]\n",
      "Creating feature matrix\n",
      "Number of independent features is 890\n",
      "Adding variant features to phenotype df\n",
      "      Sample  CaffeineConsumption  isFemale  PurpleHair  variant_0  variant_1  \\\n",
      "0    HG00096                    4     False       False       14.0       -1.0   \n",
      "1    HG00099                    4      True       False       16.0        0.0   \n",
      "2    HG00105                    4     False       False       10.0        2.0   \n",
      "3    HG00118                    3      True       False       10.0        0.0   \n",
      "4    HG00129                    6     False       False       -1.0        0.0   \n",
      "..       ...                  ...       ...         ...        ...        ...   \n",
      "279  NA21114                    6     False        True        0.0        0.0   \n",
      "280  NA21116                    4     False        True        0.0        0.0   \n",
      "281  NA21118                    6     False       False        0.0        0.0   \n",
      "282  NA21133                    5     False        True        0.0        0.0   \n",
      "283  NA21143                    5      True        True        0.0        0.0   \n",
      "\n",
      "     variant_2  variant_3  variant_4  variant_5  ...  variant_880  \\\n",
      "0         -4.0        0.0        6.0       -2.0  ...          0.0   \n",
      "1         -2.0        1.0        3.0       -3.0  ...          0.0   \n",
      "2         -8.0       -1.0       14.0        0.0  ...          0.0   \n",
      "3          0.0        0.0       30.0       -1.0  ...          0.0   \n",
      "4          0.0        4.0       22.0       -2.0  ...          0.0   \n",
      "..         ...        ...        ...        ...  ...          ...   \n",
      "279        0.0        0.0        0.0        0.0  ...          0.0   \n",
      "280        0.0        0.0        0.0        0.0  ...          0.0   \n",
      "281        0.0        0.0        0.0        0.0  ...          0.0   \n",
      "282        0.0        0.0        0.0        0.0  ...         -2.0   \n",
      "283        0.0        0.0        0.0        0.0  ...          1.0   \n",
      "\n",
      "     variant_881  variant_882  variant_883  variant_884  variant_885  \\\n",
      "0            0.0          0.0          0.0          0.0          0.0   \n",
      "1            0.0          0.0          0.0          0.0          0.0   \n",
      "2            0.0          0.0          0.0          0.0          0.0   \n",
      "3            0.0          0.0          0.0          0.0          0.0   \n",
      "4            0.0          0.0          0.0          0.0          0.0   \n",
      "..           ...          ...          ...          ...          ...   \n",
      "279          0.0          0.0          0.0        117.0         10.0   \n",
      "280         45.0          0.0          0.0          0.0          0.0   \n",
      "281         36.0         39.0          1.0         71.0        116.0   \n",
      "282         38.0         42.0          0.0         65.0         29.0   \n",
      "283         23.0        261.0          0.0          0.0         18.0   \n",
      "\n",
      "     variant_886  variant_887  variant_888  variant_889  \n",
      "0            0.0          0.0          0.0          0.0  \n",
      "1            0.0          0.0          0.0          0.0  \n",
      "2            0.0          0.0          0.0          0.0  \n",
      "3            0.0          0.0          0.0          0.0  \n",
      "4            0.0          0.0          0.0          0.0  \n",
      "..           ...          ...          ...          ...  \n",
      "279         40.0          0.0          0.0          0.0  \n",
      "280         21.0         27.0         37.0          0.0  \n",
      "281          0.0         45.0         81.0         22.0  \n",
      "282          0.0         71.0         39.0         65.0  \n",
      "283        104.0          0.0        208.0         79.0  \n",
      "\n",
      "[284 rows x 894 columns]\n"
     ]
    }
   ],
   "source": [
    "phenotypes_df, n_features = dp.create_phenotype_df(vcf_df, ann_df, ['CaffeineConsumption','isFemale','PurpleHair'], \"call_GT\",\n",
    "                                       vcf_sample_col=\"sample\", ann_sample_col=\"Sample\")"
   ]
  },
  {
   "cell_type": "markdown",
   "metadata": {},
   "source": [
    "## Run PCA on phenotype matrix"
   ]
  },
  {
   "cell_type": "code",
   "execution_count": 7,
   "metadata": {},
   "outputs": [
    {
     "name": "stdout",
     "output_type": "stream",
     "text": [
      "      Sample  CaffeineConsumption  isFemale  PurpleHair  variant_0  variant_1  \\\n",
      "0    HG00096                    4     False       False       14.0       -1.0   \n",
      "1    HG00099                    4      True       False       16.0        0.0   \n",
      "2    HG00105                    4     False       False       10.0        2.0   \n",
      "3    HG00118                    3      True       False       10.0        0.0   \n",
      "4    HG00129                    6     False       False       -1.0        0.0   \n",
      "..       ...                  ...       ...         ...        ...        ...   \n",
      "279  NA21114                    6     False        True        0.0        0.0   \n",
      "280  NA21116                    4     False        True        0.0        0.0   \n",
      "281  NA21118                    6     False       False        0.0        0.0   \n",
      "282  NA21133                    5     False        True        0.0        0.0   \n",
      "283  NA21143                    5      True        True        0.0        0.0   \n",
      "\n",
      "     variant_2  variant_3  variant_4  variant_5  ...  variant_882  \\\n",
      "0         -4.0        0.0        6.0       -2.0  ...          0.0   \n",
      "1         -2.0        1.0        3.0       -3.0  ...          0.0   \n",
      "2         -8.0       -1.0       14.0        0.0  ...          0.0   \n",
      "3          0.0        0.0       30.0       -1.0  ...          0.0   \n",
      "4          0.0        4.0       22.0       -2.0  ...          0.0   \n",
      "..         ...        ...        ...        ...  ...          ...   \n",
      "279        0.0        0.0        0.0        0.0  ...          0.0   \n",
      "280        0.0        0.0        0.0        0.0  ...          0.0   \n",
      "281        0.0        0.0        0.0        0.0  ...         39.0   \n",
      "282        0.0        0.0        0.0        0.0  ...         42.0   \n",
      "283        0.0        0.0        0.0        0.0  ...        261.0   \n",
      "\n",
      "     variant_883  variant_884  variant_885  variant_886  variant_887  \\\n",
      "0            0.0          0.0          0.0          0.0          0.0   \n",
      "1            0.0          0.0          0.0          0.0          0.0   \n",
      "2            0.0          0.0          0.0          0.0          0.0   \n",
      "3            0.0          0.0          0.0          0.0          0.0   \n",
      "4            0.0          0.0          0.0          0.0          0.0   \n",
      "..           ...          ...          ...          ...          ...   \n",
      "279          0.0        117.0         10.0         40.0          0.0   \n",
      "280          0.0          0.0          0.0         21.0         27.0   \n",
      "281          1.0         71.0        116.0          0.0         45.0   \n",
      "282          0.0         65.0         29.0          0.0         71.0   \n",
      "283          0.0          0.0         18.0        104.0          0.0   \n",
      "\n",
      "     variant_888  variant_889         0         1  \n",
      "0            0.0          0.0  0.108747 -6.774739  \n",
      "1            0.0          0.0  0.084797 -5.243171  \n",
      "2            0.0          0.0  0.060135 -3.675513  \n",
      "3            0.0          0.0  0.087084 -5.392694  \n",
      "4            0.0          0.0  0.077528 -4.780595  \n",
      "..           ...          ...       ...       ...  \n",
      "279          0.0          0.0  0.098225 -6.129153  \n",
      "280         37.0          0.0  0.100437 -6.281807  \n",
      "281         81.0         22.0  0.107291 -6.712115  \n",
      "282         39.0         65.0  0.098827 -6.166320  \n",
      "283        208.0         79.0  0.134373 -8.445257  \n",
      "\n",
      "[284 rows x 896 columns]\n"
     ]
    }
   ],
   "source": [
    "# Run PCA on phenotype dataframe\n",
    "phenotypes_df = algos.PCA_concat(phenotypes_df, 3)\n",
    "print(phenotypes_df)"
   ]
  },
  {
   "cell_type": "markdown",
   "metadata": {},
   "source": [
    "## Run GWAS with linear regression for each independent variant"
   ]
  },
  {
   "cell_type": "code",
   "execution_count": 8,
   "metadata": {},
   "outputs": [
    {
     "name": "stdout",
     "output_type": "stream",
     "text": [
      "Fitting linear regression model\n",
      "Visualizing p values\n",
      "     feature  p_value  chrom\n",
      "0          0    0.955      1\n",
      "1          1    0.882      1\n",
      "2          2    0.889      1\n",
      "3          3    0.848      1\n",
      "4          4    0.986      1\n",
      "..       ...      ...    ...\n",
      "885      885    0.992      1\n",
      "886      886    0.997      1\n",
      "887      887    0.993      1\n",
      "888      888    0.998      1\n",
      "889      889    0.994      1\n",
      "\n",
      "[890 rows x 3 columns]\n"
     ]
    }
   ],
   "source": [
    "# Fit linear regression model for each variant feature\n",
    "print(\"Fitting linear regression model\")\n",
    "\n",
    "df = runner.run_gwas(phenotypes_df, 'CaffeineConsumption', n_features, algos.cuml_LinearReg)\n",
    "print(df)"
   ]
  },
  {
   "cell_type": "code",
   "execution_count": 9,
   "metadata": {},
   "outputs": [
    {
     "data": {
      "text/plain": [
       "0        0\n",
       "1        1\n",
       "2        2\n",
       "3        3\n",
       "4        4\n",
       "      ... \n",
       "885    885\n",
       "886    886\n",
       "887    887\n",
       "888    888\n",
       "889    889\n",
       "Name: feature, Length: 890, dtype: int64"
      ]
     },
     "execution_count": 9,
     "metadata": {},
     "output_type": "execute_result"
    }
   ],
   "source": [
    "df[\"feature\"]"
   ]
  },
  {
   "cell_type": "code",
   "execution_count": 10,
   "metadata": {},
   "outputs": [],
   "source": [
    "%matplotlib inline\n",
    "import matplotlib.pyplot as plt\n",
    "import numpy as np"
   ]
  },
  {
   "cell_type": "code",
   "execution_count": 11,
   "metadata": {},
   "outputs": [
    {
     "data": {
      "image/png": "[encoded data removed]",
      "text/plain": [
       "<Figure size 432x288 with 1 Axes>"
      ]
     },
     "metadata": {
      "needs_background": "light"
     },
     "output_type": "display_data"
    }
   ],
   "source": [
    "plt.hist(-np.log(df[\"p_value\"].to_array()), bins = np.linspace(0,1,100));"
   ]
  },
  {
   "cell_type": "code",
   "execution_count": 12,
   "metadata": {},
   "outputs": [
    {
     "data": {
      "image/png": "[encoded data removed]",
      "text/plain": [
       "<Figure size 432x288 with 1 Axes>"
      ]
     },
     "metadata": {
      "needs_background": "light"
     },
     "output_type": "display_data"
    }
   ],
   "source": [
    "plt.plot(df[\"feature\"].to_array(), -np.log10(df[\"p_value\"].to_array()), \".\");"
   ]
  },
  {
   "cell_type": "code",
   "execution_count": 13,
   "metadata": {},
   "outputs": [
    {
     "data": {
      "text/html": [
       "\n",
       "\n",
       "\n",
       "\n",
       "\n",
       "\n",
       "  <div class=\"bk-root\" id=\"babdf56d-535f-4641-829d-f3407c19578c\" data-root-id=\"1002\"></div>\n"
      ]
     },
     "metadata": {},
     "output_type": "display_data"
    },
    {
     "data": {
      "application/javascript": [
       "(function(root) {\n",
       "  function embed_document(root) {\n",
       "    \n",
       "  var docs_json = {\"a296c121-a2da-453c-8148-c18889f464e8\":{\"roots\":{\"references\":[{\"attributes\":{\"below\":[{\"id\":\"1013\"}],\"center\":[{\"id\":\"1016\"},{\"id\":\"1020\"}],\"left\":[{\"id\":\"1017\"}],\"plot_width\":50,\"renderers\":[{\"id\":\"1040\"}],\"title\":{\"id\":\"1003\"},\"toolbar\":{\"id\":\"1028\"},\"x_range\":{\"id\":\"1005\"},\"x_scale\":{\"id\":\"1009\"},\"y_range\":{\"id\":\"1007\"},\"y_scale\":{\"id\":\"1011\"}},\"id\":\"1002\",\"subtype\":\"Figure\",\"type\":\"Plot\"},{\"attributes\":{\"axis\":{\"id\":\"1013\"},\"ticker\":null},\"id\":\"1016\",\"type\":\"Grid\"},{\"attributes\":{\"text\":\"Manhattan Plot\"},\"id\":\"1003\",\"type\":\"Title\"},{\"attributes\":{\"axis_label\":\"-log10(p)\",\"formatter\":{\"id\":\"1044\"},\"ticker\":{\"id\":\"1018\"}},\"id\":\"1017\",\"type\":\"LinearAxis\"},{\"attributes\":{\"bottom_units\":\"screen\",\"fill_alpha\":0.5,\"fill_color\":\"lightgrey\",\"left_units\":\"screen\",\"level\":\"overlay\",\"line_alpha\":1.0,\"line_color\":\"black\",\"line_dash\":[4,4],\"line_width\":2,\"right_units\":\"screen\",\"top_units\":\"screen\"},\"id\":\"1027\",\"type\":\"BoxAnnotation\"},{\"attributes\":{},\"id\":\"1048\",\"type\":\"Selection\"},{\"attributes\":{\"data\":{\"x\":{\"__ndarray__\":\"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\",\"dtype\":\"float64\",\"order\":\"little\",\"shape\":[890]},\"y\":{\"__ndarray__\":\"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\",\"dtype\":\"float64\",\"order\":\"little\",\"shape\":[890]}},\"selected\":{\"id\":\"1048\"},\"selection_policy\":{\"id\":\"1047\"}},\"id\":\"1037\",\"type\":\"ColumnDataSource\"},{\"attributes\":{\"active_drag\":\"auto\",\"active_inspect\":\"auto\",\"active_multi\":null,\"active_scroll\":\"auto\",\"active_tap\":\"auto\",\"tools\":[{\"id\":\"1021\"},{\"id\":\"1022\"},{\"id\":\"1023\"},{\"id\":\"1024\"},{\"id\":\"1025\"},{\"id\":\"1026\"}]},\"id\":\"1028\",\"type\":\"Toolbar\"},{\"attributes\":{\"axis_label\":\"Chromosomes\",\"formatter\":{\"id\":\"1043\"},\"ticker\":{\"id\":\"1035\"}},\"id\":\"1013\",\"type\":\"LinearAxis\"},{\"attributes\":{},\"id\":\"1047\",\"type\":\"UnionRenderers\"},{\"attributes\":{},\"id\":\"1009\",\"type\":\"LinearScale\"},{\"attributes\":{},\"id\":\"1026\",\"type\":\"HelpTool\"},{\"attributes\":{},\"id\":\"1007\",\"type\":\"DataRange1d\"},{\"attributes\":{},\"id\":\"1043\",\"type\":\"BasicTickFormatter\"},{\"attributes\":{},\"id\":\"1011\",\"type\":\"LinearScale\"},{\"attributes\":{\"source\":{\"id\":\"1037\"}},\"id\":\"1041\",\"type\":\"CDSView\"},{\"attributes\":{\"ticks\":[1]},\"id\":\"1035\",\"type\":\"FixedTicker\"},{\"attributes\":{},\"id\":\"1044\",\"type\":\"BasicTickFormatter\"},{\"attributes\":{\"axis\":{\"id\":\"1017\"},\"dimension\":1,\"ticker\":null},\"id\":\"1020\",\"type\":\"Grid\"},{\"attributes\":{\"data_source\":{\"id\":\"1037\"},\"glyph\":{\"id\":\"1038\"},\"hover_glyph\":null,\"muted_glyph\":null,\"nonselection_glyph\":{\"id\":\"1039\"},\"selection_glyph\":null,\"view\":{\"id\":\"1041\"}},\"id\":\"1040\",\"type\":\"GlyphRenderer\"},{\"attributes\":{},\"id\":\"1018\",\"type\":\"BasicTicker\"},{\"attributes\":{\"fill_alpha\":{\"value\":0.5},\"fill_color\":{\"value\":\"orange\"},\"line_alpha\":{\"value\":0.5},\"line_color\":{\"value\":\"orange\"},\"size\":{\"units\":\"screen\",\"value\":2},\"x\":{\"field\":\"x\"},\"y\":{\"field\":\"y\"}},\"id\":\"1038\",\"type\":\"Circle\"},{\"attributes\":{},\"id\":\"1005\",\"type\":\"DataRange1d\"},{\"attributes\":{},\"id\":\"1022\",\"type\":\"WheelZoomTool\"},{\"attributes\":{},\"id\":\"1021\",\"type\":\"PanTool\"},{\"attributes\":{\"overlay\":{\"id\":\"1027\"}},\"id\":\"1023\",\"type\":\"BoxZoomTool\"},{\"attributes\":{\"fill_alpha\":{\"value\":0.1},\"fill_color\":{\"value\":\"orange\"},\"line_alpha\":{\"value\":0.1},\"line_color\":{\"value\":\"orange\"},\"size\":{\"units\":\"screen\",\"value\":2},\"x\":{\"field\":\"x\"},\"y\":{\"field\":\"y\"}},\"id\":\"1039\",\"type\":\"Circle\"},{\"attributes\":{},\"id\":\"1024\",\"type\":\"SaveTool\"},{\"attributes\":{},\"id\":\"1025\",\"type\":\"ResetTool\"}],\"root_ids\":[\"1002\"]},\"title\":\"Bokeh Application\",\"version\":\"2.2.0\"}};\n",
       "  var render_items = [{\"docid\":\"a296c121-a2da-453c-8148-c18889f464e8\",\"notebook_comms_target\":\"1049\",\"root_ids\":[\"1002\"],\"roots\":{\"1002\":\"babdf56d-535f-4641-829d-f3407c19578c\"}}];\n",
       "  root.Bokeh.embed.embed_items_notebook(docs_json, render_items);\n",
       "\n",
       "  }\n",
       "  if (root.Bokeh !== undefined) {\n",
       "    embed_document(root);\n",
       "  } else {\n",
       "    var attempts = 0;\n",
       "    var timer = setInterval(function(root) {\n",
       "      if (root.Bokeh !== undefined) {\n",
       "        clearInterval(timer);\n",
       "        embed_document(root);\n",
       "      } else {\n",
       "        attempts++;\n",
       "        if (attempts > 100) {\n",
       "          clearInterval(timer);\n",
       "          console.log(\"Bokeh: ERROR: Unable to run BokehJS code because BokehJS library is missing\");\n",
       "        }\n",
       "      }\n",
       "    }, 10, root)\n",
       "  }\n",
       "})(window);"
      ],
      "application/vnd.bokehjs_exec.v0+json": ""
     },
     "metadata": {
      "application/vnd.bokehjs_exec.v0+json": {
       "id": "1002"
      }
     },
     "output_type": "display_data"
    },
    {
     "data": {
      "text/html": [
       "<div style=\"display: table;\"><div style=\"display: table-row;\"><div style=\"display: table-cell;\"><b title=\"bokeh.plotting.figure.Figure\">Figure</b>(</div><div style=\"display: table-cell;\">id&nbsp;=&nbsp;'1002', <span id=\"1093\" style=\"cursor: pointer;\">&hellip;)</span></div></div><div class=\"1092\" style=\"display: none;\"><div style=\"display: table-cell;\"></div><div style=\"display: table-cell;\">above&nbsp;=&nbsp;[],</div></div><div class=\"1092\" style=\"display: none;\"><div style=\"display: table-cell;\"></div><div style=\"display: table-cell;\">align&nbsp;=&nbsp;'start',</div></div><div class=\"1092\" style=\"display: none;\"><div style=\"display: table-cell;\"></div><div style=\"display: table-cell;\">aspect_ratio&nbsp;=&nbsp;None,</div></div><div class=\"1092\" style=\"display: none;\"><div style=\"display: table-cell;\"></div><div style=\"display: table-cell;\">aspect_scale&nbsp;=&nbsp;1,</div></div><div class=\"1092\" style=\"display: none;\"><div style=\"display: table-cell;\"></div><div style=\"display: table-cell;\">background&nbsp;=&nbsp;None,</div></div><div class=\"1092\" style=\"display: none;\"><div style=\"display: table-cell;\"></div><div style=\"display: table-cell;\">background_fill_alpha&nbsp;=&nbsp;1.0,</div></div><div class=\"1092\" style=\"display: none;\"><div style=\"display: table-cell;\"></div><div style=\"display: table-cell;\">background_fill_color&nbsp;=&nbsp;'#ffffff',</div></div><div class=\"1092\" style=\"display: none;\"><div style=\"display: table-cell;\"></div><div style=\"display: table-cell;\">below&nbsp;=&nbsp;[LinearAxis(id='1013', ...)],</div></div><div class=\"1092\" style=\"display: none;\"><div style=\"display: table-cell;\"></div><div style=\"display: table-cell;\">border_fill_alpha&nbsp;=&nbsp;1.0,</div></div><div class=\"1092\" style=\"display: none;\"><div style=\"display: table-cell;\"></div><div style=\"display: table-cell;\">border_fill_color&nbsp;=&nbsp;'#ffffff',</div></div><div class=\"1092\" style=\"display: none;\"><div style=\"display: table-cell;\"></div><div style=\"display: table-cell;\">center&nbsp;=&nbsp;[Grid(id='1016', ...), Grid(id='1020', ...)],</div></div><div class=\"1092\" style=\"display: none;\"><div style=\"display: table-cell;\"></div><div style=\"display: table-cell;\">css_classes&nbsp;=&nbsp;[],</div></div><div class=\"1092\" style=\"display: none;\"><div style=\"display: table-cell;\"></div><div style=\"display: table-cell;\">disabled&nbsp;=&nbsp;False,</div></div><div class=\"1092\" style=\"display: none;\"><div style=\"display: table-cell;\"></div><div style=\"display: table-cell;\">extra_x_ranges&nbsp;=&nbsp;{},</div></div><div class=\"1092\" style=\"display: none;\"><div style=\"display: table-cell;\"></div><div style=\"display: table-cell;\">extra_y_ranges&nbsp;=&nbsp;{},</div></div><div class=\"1092\" style=\"display: none;\"><div style=\"display: table-cell;\"></div><div style=\"display: table-cell;\">frame_height&nbsp;=&nbsp;None,</div></div><div class=\"1092\" style=\"display: none;\"><div style=\"display: table-cell;\"></div><div style=\"display: table-cell;\">frame_width&nbsp;=&nbsp;None,</div></div><div class=\"1092\" style=\"display: none;\"><div style=\"display: table-cell;\"></div><div style=\"display: table-cell;\">height&nbsp;=&nbsp;None,</div></div><div class=\"1092\" style=\"display: none;\"><div style=\"display: table-cell;\"></div><div style=\"display: table-cell;\">height_policy&nbsp;=&nbsp;'auto',</div></div><div class=\"1092\" style=\"display: none;\"><div style=\"display: table-cell;\"></div><div style=\"display: table-cell;\">hidpi&nbsp;=&nbsp;True,</div></div><div class=\"1092\" style=\"display: none;\"><div style=\"display: table-cell;\"></div><div style=\"display: table-cell;\">js_event_callbacks&nbsp;=&nbsp;{},</div></div><div class=\"1092\" style=\"display: none;\"><div style=\"display: table-cell;\"></div><div style=\"display: table-cell;\">js_property_callbacks&nbsp;=&nbsp;{},</div></div><div class=\"1092\" style=\"display: none;\"><div style=\"display: table-cell;\"></div><div style=\"display: table-cell;\">left&nbsp;=&nbsp;[LinearAxis(id='1017', ...)],</div></div><div class=\"1092\" style=\"display: none;\"><div style=\"display: table-cell;\"></div><div style=\"display: table-cell;\">lod_factor&nbsp;=&nbsp;10,</div></div><div class=\"1092\" style=\"display: none;\"><div style=\"display: table-cell;\"></div><div style=\"display: table-cell;\">lod_interval&nbsp;=&nbsp;300,</div></div><div class=\"1092\" style=\"display: none;\"><div style=\"display: table-cell;\"></div><div style=\"display: table-cell;\">lod_threshold&nbsp;=&nbsp;2000,</div></div><div class=\"1092\" style=\"display: none;\"><div style=\"display: table-cell;\"></div><div style=\"display: table-cell;\">lod_timeout&nbsp;=&nbsp;500,</div></div><div class=\"1092\" style=\"display: none;\"><div style=\"display: table-cell;\"></div><div style=\"display: table-cell;\">margin&nbsp;=&nbsp;(0, 0, 0, 0),</div></div><div class=\"1092\" style=\"display: none;\"><div style=\"display: table-cell;\"></div><div style=\"display: table-cell;\">match_aspect&nbsp;=&nbsp;False,</div></div><div class=\"1092\" style=\"display: none;\"><div style=\"display: table-cell;\"></div><div style=\"display: table-cell;\">max_height&nbsp;=&nbsp;None,</div></div><div class=\"1092\" style=\"display: none;\"><div style=\"display: table-cell;\"></div><div style=\"display: table-cell;\">max_width&nbsp;=&nbsp;None,</div></div><div class=\"1092\" style=\"display: none;\"><div style=\"display: table-cell;\"></div><div style=\"display: table-cell;\">min_border&nbsp;=&nbsp;5,</div></div><div class=\"1092\" style=\"display: none;\"><div style=\"display: table-cell;\"></div><div style=\"display: table-cell;\">min_border_bottom&nbsp;=&nbsp;None,</div></div><div class=\"1092\" style=\"display: none;\"><div style=\"display: table-cell;\"></div><div style=\"display: table-cell;\">min_border_left&nbsp;=&nbsp;None,</div></div><div class=\"1092\" style=\"display: none;\"><div style=\"display: table-cell;\"></div><div style=\"display: table-cell;\">min_border_right&nbsp;=&nbsp;None,</div></div><div class=\"1092\" style=\"display: none;\"><div style=\"display: table-cell;\"></div><div style=\"display: table-cell;\">min_border_top&nbsp;=&nbsp;None,</div></div><div class=\"1092\" style=\"display: none;\"><div style=\"display: table-cell;\"></div><div style=\"display: table-cell;\">min_height&nbsp;=&nbsp;None,</div></div><div class=\"1092\" style=\"display: none;\"><div style=\"display: table-cell;\"></div><div style=\"display: table-cell;\">min_width&nbsp;=&nbsp;None,</div></div><div class=\"1092\" style=\"display: none;\"><div style=\"display: table-cell;\"></div><div style=\"display: table-cell;\">name&nbsp;=&nbsp;None,</div></div><div class=\"1092\" style=\"display: none;\"><div style=\"display: table-cell;\"></div><div style=\"display: table-cell;\">outline_line_alpha&nbsp;=&nbsp;1.0,</div></div><div class=\"1092\" style=\"display: none;\"><div style=\"display: table-cell;\"></div><div style=\"display: table-cell;\">outline_line_cap&nbsp;=&nbsp;'butt',</div></div><div class=\"1092\" style=\"display: none;\"><div style=\"display: table-cell;\"></div><div style=\"display: table-cell;\">outline_line_color&nbsp;=&nbsp;'#e5e5e5',</div></div><div class=\"1092\" style=\"display: none;\"><div style=\"display: table-cell;\"></div><div style=\"display: table-cell;\">outline_line_dash&nbsp;=&nbsp;[],</div></div><div class=\"1092\" style=\"display: none;\"><div style=\"display: table-cell;\"></div><div style=\"display: table-cell;\">outline_line_dash_offset&nbsp;=&nbsp;0,</div></div><div class=\"1092\" style=\"display: none;\"><div style=\"display: table-cell;\"></div><div style=\"display: table-cell;\">outline_line_join&nbsp;=&nbsp;'bevel',</div></div><div class=\"1092\" style=\"display: none;\"><div style=\"display: table-cell;\"></div><div style=\"display: table-cell;\">outline_line_width&nbsp;=&nbsp;1,</div></div><div class=\"1092\" style=\"display: none;\"><div style=\"display: table-cell;\"></div><div style=\"display: table-cell;\">output_backend&nbsp;=&nbsp;'canvas',</div></div><div class=\"1092\" style=\"display: none;\"><div style=\"display: table-cell;\"></div><div style=\"display: table-cell;\">plot_height&nbsp;=&nbsp;600,</div></div><div class=\"1092\" style=\"display: none;\"><div style=\"display: table-cell;\"></div><div style=\"display: table-cell;\">plot_width&nbsp;=&nbsp;50,</div></div><div class=\"1092\" style=\"display: none;\"><div style=\"display: table-cell;\"></div><div style=\"display: table-cell;\">renderers&nbsp;=&nbsp;[GlyphRenderer(id='1040', ...)],</div></div><div class=\"1092\" style=\"display: none;\"><div style=\"display: table-cell;\"></div><div style=\"display: table-cell;\">reset_policy&nbsp;=&nbsp;'standard',</div></div><div class=\"1092\" style=\"display: none;\"><div style=\"display: table-cell;\"></div><div style=\"display: table-cell;\">right&nbsp;=&nbsp;[],</div></div><div class=\"1092\" style=\"display: none;\"><div style=\"display: table-cell;\"></div><div style=\"display: table-cell;\">sizing_mode&nbsp;=&nbsp;None,</div></div><div class=\"1092\" style=\"display: none;\"><div style=\"display: table-cell;\"></div><div style=\"display: table-cell;\">subscribed_events&nbsp;=&nbsp;[],</div></div><div class=\"1092\" style=\"display: none;\"><div style=\"display: table-cell;\"></div><div style=\"display: table-cell;\">tags&nbsp;=&nbsp;[],</div></div><div class=\"1092\" style=\"display: none;\"><div style=\"display: table-cell;\"></div><div style=\"display: table-cell;\">title&nbsp;=&nbsp;Title(id='1003', ...),</div></div><div class=\"1092\" style=\"display: none;\"><div style=\"display: table-cell;\"></div><div style=\"display: table-cell;\">title_location&nbsp;=&nbsp;'above',</div></div><div class=\"1092\" style=\"display: none;\"><div style=\"display: table-cell;\"></div><div style=\"display: table-cell;\">toolbar&nbsp;=&nbsp;Toolbar(id='1028', ...),</div></div><div class=\"1092\" style=\"display: none;\"><div style=\"display: table-cell;\"></div><div style=\"display: table-cell;\">toolbar_location&nbsp;=&nbsp;'right',</div></div><div class=\"1092\" style=\"display: none;\"><div style=\"display: table-cell;\"></div><div style=\"display: table-cell;\">toolbar_sticky&nbsp;=&nbsp;True,</div></div><div class=\"1092\" style=\"display: none;\"><div style=\"display: table-cell;\"></div><div style=\"display: table-cell;\">visible&nbsp;=&nbsp;True,</div></div><div class=\"1092\" style=\"display: none;\"><div style=\"display: table-cell;\"></div><div style=\"display: table-cell;\">width&nbsp;=&nbsp;None,</div></div><div class=\"1092\" style=\"display: none;\"><div style=\"display: table-cell;\"></div><div style=\"display: table-cell;\">width_policy&nbsp;=&nbsp;'auto',</div></div><div class=\"1092\" style=\"display: none;\"><div style=\"display: table-cell;\"></div><div style=\"display: table-cell;\">x_range&nbsp;=&nbsp;DataRange1d(id='1005', ...),</div></div><div class=\"1092\" style=\"display: none;\"><div style=\"display: table-cell;\"></div><div style=\"display: table-cell;\">x_scale&nbsp;=&nbsp;LinearScale(id='1009', ...),</div></div><div class=\"1092\" style=\"display: none;\"><div style=\"display: table-cell;\"></div><div style=\"display: table-cell;\">y_range&nbsp;=&nbsp;DataRange1d(id='1007', ...),</div></div><div class=\"1092\" style=\"display: none;\"><div style=\"display: table-cell;\"></div><div style=\"display: table-cell;\">y_scale&nbsp;=&nbsp;LinearScale(id='1011', ...))</div></div></div>\n",
       "<script>\n",
       "(function() {\n",
       "  var expanded = false;\n",
       "  var ellipsis = document.getElementById(\"1093\");\n",
       "  ellipsis.addEventListener(\"click\", function() {\n",
       "    var rows = document.getElementsByClassName(\"1092\");\n",
       "    for (var i = 0; i < rows.length; i++) {\n",
       "      var el = rows[i];\n",
       "      el.style.display = expanded ? \"none\" : \"table-row\";\n",
       "    }\n",
       "    ellipsis.innerHTML = expanded ? \"&hellip;)\" : \"&lsaquo;&lsaquo;&lsaquo;\";\n",
       "    expanded = !expanded;\n",
       "  });\n",
       "})();\n",
       "</script>\n"
      ],
      "text/plain": [
       "Figure(id='1002', ...)"
      ]
     },
     "execution_count": 13,
     "metadata": {},
     "output_type": "execute_result"
    }
   ],
   "source": [
    "show_manhattan_plot(df, 'chrom',  'pos', 'p_value')"
   ]
  },
  {
   "cell_type": "code",
   "execution_count": 14,
   "metadata": {},
   "outputs": [],
   "source": [
    "a = df[\"p_value\"].to_array()\n",
    "a.sort()\n",
    "expect_p = np.linspace(0, 1, len(a))"
   ]
  },
  {
   "cell_type": "code",
   "execution_count": 15,
   "metadata": {},
   "outputs": [
    {
     "data": {
      "text/plain": [
       "[<matplotlib.lines.Line2D at 0x7f72dc35b700>]"
      ]
     },
     "execution_count": 15,
     "metadata": {},
     "output_type": "execute_result"
    },
    {
     "data": {
      "image/png": "[encoded data removed]",
      "text/plain": [
       "<Figure size 432x288 with 1 Axes>"
      ]
     },
     "metadata": {
      "needs_background": "light"
     },
     "output_type": "display_data"
    }
   ],
   "source": [
    "plt.plot(-np.log10(expect_p), -np.log10(a), '.')\n",
    "plt.plot([0,5],[0,5])"
   ]
  },
  {
   "cell_type": "code",
   "execution_count": 27,
   "metadata": {},
   "outputs": [
    {
     "data": {
      "text/html": [
       "\n",
       "\n",
       "\n",
       "\n",
       "\n",
       "\n",
       "  <div class=\"bk-root\" id=\"72e838c4-25b9-4dfe-b54e-eaf920083d5a\" data-root-id=\"1246\"></div>\n"
      ]
     },
     "metadata": {},
     "output_type": "display_data"
    },
    {
     "data": {
      "application/javascript": [
       "(function(root) {\n",
       "  function embed_document(root) {\n",
       "    \n",
       "  var docs_json = {\"e49aea97-d80c-4151-9954-98b300e421dd\":{\"roots\":{\"references\":[{\"attributes\":{\"below\":[{\"id\":\"1257\"}],\"center\":[{\"id\":\"1260\"},{\"id\":\"1264\"}],\"left\":[{\"id\":\"1261\"}],\"renderers\":[{\"id\":\"1282\"},{\"id\":\"1287\"}],\"title\":{\"id\":\"1247\"},\"toolbar\":{\"id\":\"1272\"},\"x_range\":{\"id\":\"1249\"},\"x_scale\":{\"id\":\"1253\"},\"y_range\":{\"id\":\"1251\"},\"y_scale\":{\"id\":\"1255\"}},\"id\":\"1246\",\"subtype\":\"Figure\",\"type\":\"Plot\"},{\"attributes\":{\"text\":\"QQ\"},\"id\":\"1247\",\"type\":\"Title\"},{\"attributes\":{},\"id\":\"1315\",\"type\":\"UnionRenderers\"},{\"attributes\":{\"bottom_units\":\"screen\",\"fill_alpha\":0.5,\"fill_color\":\"lightgrey\",\"left_units\":\"screen\",\"level\":\"overlay\",\"line_alpha\":1.0,\"line_color\":\"black\",\"line_dash\":[4,4],\"line_width\":2,\"right_units\":\"screen\",\"top_units\":\"screen\"},\"id\":\"1271\",\"type\":\"BoxAnnotation\"},{\"attributes\":{},\"id\":\"1310\",\"type\":\"BasicTickFormatter\"},{\"attributes\":{},\"id\":\"1258\",\"type\":\"BasicTicker\"},{\"attributes\":{},\"id\":\"1265\",\"type\":\"PanTool\"},{\"attributes\":{},\"id\":\"1253\",\"type\":\"LinearScale\"},{\"attributes\":{\"axis\":{\"id\":\"1257\"},\"ticker\":null},\"id\":\"1260\",\"type\":\"Grid\"},{\"attributes\":{},\"id\":\"1316\",\"type\":\"Selection\"},{\"attributes\":{\"formatter\":{\"id\":\"1312\"},\"ticker\":{\"id\":\"1262\"}},\"id\":\"1261\",\"type\":\"LinearAxis\"},{\"attributes\":{\"formatter\":{\"id\":\"1310\"},\"ticker\":{\"id\":\"1258\"}},\"id\":\"1257\",\"type\":\"LinearAxis\"},{\"attributes\":{},\"id\":\"1317\",\"type\":\"UnionRenderers\"},{\"attributes\":{},\"id\":\"1255\",\"type\":\"LinearScale\"},{\"attributes\":{},\"id\":\"1262\",\"type\":\"BasicTicker\"},{\"attributes\":{\"axis\":{\"id\":\"1261\"},\"dimension\":1,\"ticker\":null},\"id\":\"1264\",\"type\":\"Grid\"},{\"attributes\":{\"fill_color\":{\"value\":\"#1f77b4\"},\"line_color\":{\"value\":\"#1f77b4\"},\"size\":{\"units\":\"screen\",\"value\":1},\"x\":{\"field\":\"x\"},\"y\":{\"field\":\"y\"}},\"id\":\"1280\",\"type\":\"Circle\"},{\"attributes\":{\"data\":{\"x\":{\"__ndarray__\":\"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\",\"dtype\":\"float64\",\"order\":\"little\",\"shape\":[890]},\"y\":{\"__ndarray__\":\"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\",\"dtype\":\"float64\",\"order\":\"little\",\"shape\":[890]}},\"selected\":{\"id\":\"1314\"},\"selection_policy\":{\"id\":\"1315\"}},\"id\":\"1279\",\"type\":\"ColumnDataSource\"},{\"attributes\":{},\"id\":\"1266\",\"type\":\"WheelZoomTool\"},{\"attributes\":{\"active_drag\":\"auto\",\"active_inspect\":\"auto\",\"active_multi\":null,\"active_scroll\":\"auto\",\"active_tap\":\"auto\",\"tools\":[{\"id\":\"1265\"},{\"id\":\"1266\"},{\"id\":\"1267\"},{\"id\":\"1268\"},{\"id\":\"1269\"},{\"id\":\"1270\"}]},\"id\":\"1272\",\"type\":\"Toolbar\"},{\"attributes\":{},\"id\":\"1270\",\"type\":\"HelpTool\"},{\"attributes\":{\"overlay\":{\"id\":\"1271\"}},\"id\":\"1267\",\"type\":\"BoxZoomTool\"},{\"attributes\":{},\"id\":\"1268\",\"type\":\"SaveTool\"},{\"attributes\":{},\"id\":\"1269\",\"type\":\"ResetTool\"},{\"attributes\":{\"source\":{\"id\":\"1279\"}},\"id\":\"1283\",\"type\":\"CDSView\"},{\"attributes\":{},\"id\":\"1312\",\"type\":\"BasicTickFormatter\"},{\"attributes\":{\"fill_alpha\":{\"value\":0.1},\"fill_color\":{\"value\":\"#1f77b4\"},\"line_alpha\":{\"value\":0.1},\"line_color\":{\"value\":\"#1f77b4\"},\"size\":{\"units\":\"screen\",\"value\":1},\"x\":{\"field\":\"x\"},\"y\":{\"field\":\"y\"}},\"id\":\"1281\",\"type\":\"Circle\"},{\"attributes\":{\"data\":{\"x\":[0,1.0],\"y\":[0,1.0]},\"selected\":{\"id\":\"1316\"},\"selection_policy\":{\"id\":\"1317\"}},\"id\":\"1284\",\"type\":\"ColumnDataSource\"},{\"attributes\":{\"data_source\":{\"id\":\"1284\"},\"glyph\":{\"id\":\"1285\"},\"hover_glyph\":null,\"muted_glyph\":null,\"nonselection_glyph\":{\"id\":\"1286\"},\"selection_glyph\":null,\"view\":{\"id\":\"1288\"}},\"id\":\"1287\",\"type\":\"GlyphRenderer\"},{\"attributes\":{\"data_source\":{\"id\":\"1279\"},\"glyph\":{\"id\":\"1280\"},\"hover_glyph\":null,\"muted_glyph\":null,\"nonselection_glyph\":{\"id\":\"1281\"},\"selection_glyph\":null,\"view\":{\"id\":\"1283\"}},\"id\":\"1282\",\"type\":\"GlyphRenderer\"},{\"attributes\":{},\"id\":\"1251\",\"type\":\"Range1d\"},{\"attributes\":{\"line_color\":\"orange\",\"line_width\":2,\"x\":{\"field\":\"x\"},\"y\":{\"field\":\"y\"}},\"id\":\"1285\",\"type\":\"Line\"},{\"attributes\":{\"source\":{\"id\":\"1284\"}},\"id\":\"1288\",\"type\":\"CDSView\"},{\"attributes\":{\"line_alpha\":0.1,\"line_color\":\"orange\",\"line_width\":2,\"x\":{\"field\":\"x\"},\"y\":{\"field\":\"y\"}},\"id\":\"1286\",\"type\":\"Line\"},{\"attributes\":{},\"id\":\"1249\",\"type\":\"Range1d\"},{\"attributes\":{},\"id\":\"1314\",\"type\":\"Selection\"}],\"root_ids\":[\"1246\"]},\"title\":\"Bokeh Application\",\"version\":\"2.2.0\"}};\n",
       "  var render_items = [{\"docid\":\"e49aea97-d80c-4151-9954-98b300e421dd\",\"notebook_comms_target\":\"1319\",\"root_ids\":[\"1246\"],\"roots\":{\"1246\":\"72e838c4-25b9-4dfe-b54e-eaf920083d5a\"}}];\n",
       "  root.Bokeh.embed.embed_items_notebook(docs_json, render_items);\n",
       "\n",
       "  }\n",
       "  if (root.Bokeh !== undefined) {\n",
       "    embed_document(root);\n",
       "  } else {\n",
       "    var attempts = 0;\n",
       "    var timer = setInterval(function(root) {\n",
       "      if (root.Bokeh !== undefined) {\n",
       "        clearInterval(timer);\n",
       "        embed_document(root);\n",
       "      } else {\n",
       "        attempts++;\n",
       "        if (attempts > 100) {\n",
       "          clearInterval(timer);\n",
       "          console.log(\"Bokeh: ERROR: Unable to run BokehJS code because BokehJS library is missing\");\n",
       "        }\n",
       "      }\n",
       "    }, 10, root)\n",
       "  }\n",
       "})(window);"
      ],
      "application/vnd.bokehjs_exec.v0+json": ""
     },
     "metadata": {
      "application/vnd.bokehjs_exec.v0+json": {
       "id": "1246"
      }
     },
     "output_type": "display_data"
    },
    {
     "data": {
      "text/html": [
       "<div style=\"display: table;\"><div style=\"display: table-row;\"><div style=\"display: table-cell;\"><b title=\"bokeh.plotting.figure.Figure\">Figure</b>(</div><div style=\"display: table-cell;\">id&nbsp;=&nbsp;'1246', <span id=\"1381\" style=\"cursor: pointer;\">&hellip;)</span></div></div><div class=\"1380\" style=\"display: none;\"><div style=\"display: table-cell;\"></div><div style=\"display: table-cell;\">above&nbsp;=&nbsp;[],</div></div><div class=\"1380\" style=\"display: none;\"><div style=\"display: table-cell;\"></div><div style=\"display: table-cell;\">align&nbsp;=&nbsp;'start',</div></div><div class=\"1380\" style=\"display: none;\"><div style=\"display: table-cell;\"></div><div style=\"display: table-cell;\">aspect_ratio&nbsp;=&nbsp;None,</div></div><div class=\"1380\" style=\"display: none;\"><div style=\"display: table-cell;\"></div><div style=\"display: table-cell;\">aspect_scale&nbsp;=&nbsp;1,</div></div><div class=\"1380\" style=\"display: none;\"><div style=\"display: table-cell;\"></div><div style=\"display: table-cell;\">background&nbsp;=&nbsp;None,</div></div><div class=\"1380\" style=\"display: none;\"><div style=\"display: table-cell;\"></div><div style=\"display: table-cell;\">background_fill_alpha&nbsp;=&nbsp;1.0,</div></div><div class=\"1380\" style=\"display: none;\"><div style=\"display: table-cell;\"></div><div style=\"display: table-cell;\">background_fill_color&nbsp;=&nbsp;'#ffffff',</div></div><div class=\"1380\" style=\"display: none;\"><div style=\"display: table-cell;\"></div><div style=\"display: table-cell;\">below&nbsp;=&nbsp;[LinearAxis(id='1257', ...)],</div></div><div class=\"1380\" style=\"display: none;\"><div style=\"display: table-cell;\"></div><div style=\"display: table-cell;\">border_fill_alpha&nbsp;=&nbsp;1.0,</div></div><div class=\"1380\" style=\"display: none;\"><div style=\"display: table-cell;\"></div><div style=\"display: table-cell;\">border_fill_color&nbsp;=&nbsp;'#ffffff',</div></div><div class=\"1380\" style=\"display: none;\"><div style=\"display: table-cell;\"></div><div style=\"display: table-cell;\">center&nbsp;=&nbsp;[Grid(id='1260', ...), Grid(id='1264', ...)],</div></div><div class=\"1380\" style=\"display: none;\"><div style=\"display: table-cell;\"></div><div style=\"display: table-cell;\">css_classes&nbsp;=&nbsp;[],</div></div><div class=\"1380\" style=\"display: none;\"><div style=\"display: table-cell;\"></div><div style=\"display: table-cell;\">disabled&nbsp;=&nbsp;False,</div></div><div class=\"1380\" style=\"display: none;\"><div style=\"display: table-cell;\"></div><div style=\"display: table-cell;\">extra_x_ranges&nbsp;=&nbsp;{},</div></div><div class=\"1380\" style=\"display: none;\"><div style=\"display: table-cell;\"></div><div style=\"display: table-cell;\">extra_y_ranges&nbsp;=&nbsp;{},</div></div><div class=\"1380\" style=\"display: none;\"><div style=\"display: table-cell;\"></div><div style=\"display: table-cell;\">frame_height&nbsp;=&nbsp;None,</div></div><div class=\"1380\" style=\"display: none;\"><div style=\"display: table-cell;\"></div><div style=\"display: table-cell;\">frame_width&nbsp;=&nbsp;None,</div></div><div class=\"1380\" style=\"display: none;\"><div style=\"display: table-cell;\"></div><div style=\"display: table-cell;\">height&nbsp;=&nbsp;None,</div></div><div class=\"1380\" style=\"display: none;\"><div style=\"display: table-cell;\"></div><div style=\"display: table-cell;\">height_policy&nbsp;=&nbsp;'auto',</div></div><div class=\"1380\" style=\"display: none;\"><div style=\"display: table-cell;\"></div><div style=\"display: table-cell;\">hidpi&nbsp;=&nbsp;True,</div></div><div class=\"1380\" style=\"display: none;\"><div style=\"display: table-cell;\"></div><div style=\"display: table-cell;\">js_event_callbacks&nbsp;=&nbsp;{},</div></div><div class=\"1380\" style=\"display: none;\"><div style=\"display: table-cell;\"></div><div style=\"display: table-cell;\">js_property_callbacks&nbsp;=&nbsp;{},</div></div><div class=\"1380\" style=\"display: none;\"><div style=\"display: table-cell;\"></div><div style=\"display: table-cell;\">left&nbsp;=&nbsp;[LinearAxis(id='1261', ...)],</div></div><div class=\"1380\" style=\"display: none;\"><div style=\"display: table-cell;\"></div><div style=\"display: table-cell;\">lod_factor&nbsp;=&nbsp;10,</div></div><div class=\"1380\" style=\"display: none;\"><div style=\"display: table-cell;\"></div><div style=\"display: table-cell;\">lod_interval&nbsp;=&nbsp;300,</div></div><div class=\"1380\" style=\"display: none;\"><div style=\"display: table-cell;\"></div><div style=\"display: table-cell;\">lod_threshold&nbsp;=&nbsp;2000,</div></div><div class=\"1380\" style=\"display: none;\"><div style=\"display: table-cell;\"></div><div style=\"display: table-cell;\">lod_timeout&nbsp;=&nbsp;500,</div></div><div class=\"1380\" style=\"display: none;\"><div style=\"display: table-cell;\"></div><div style=\"display: table-cell;\">margin&nbsp;=&nbsp;(0, 0, 0, 0),</div></div><div class=\"1380\" style=\"display: none;\"><div style=\"display: table-cell;\"></div><div style=\"display: table-cell;\">match_aspect&nbsp;=&nbsp;False,</div></div><div class=\"1380\" style=\"display: none;\"><div style=\"display: table-cell;\"></div><div style=\"display: table-cell;\">max_height&nbsp;=&nbsp;None,</div></div><div class=\"1380\" style=\"display: none;\"><div style=\"display: table-cell;\"></div><div style=\"display: table-cell;\">max_width&nbsp;=&nbsp;None,</div></div><div class=\"1380\" style=\"display: none;\"><div style=\"display: table-cell;\"></div><div style=\"display: table-cell;\">min_border&nbsp;=&nbsp;5,</div></div><div class=\"1380\" style=\"display: none;\"><div style=\"display: table-cell;\"></div><div style=\"display: table-cell;\">min_border_bottom&nbsp;=&nbsp;None,</div></div><div class=\"1380\" style=\"display: none;\"><div style=\"display: table-cell;\"></div><div style=\"display: table-cell;\">min_border_left&nbsp;=&nbsp;None,</div></div><div class=\"1380\" style=\"display: none;\"><div style=\"display: table-cell;\"></div><div style=\"display: table-cell;\">min_border_right&nbsp;=&nbsp;None,</div></div><div class=\"1380\" style=\"display: none;\"><div style=\"display: table-cell;\"></div><div style=\"display: table-cell;\">min_border_top&nbsp;=&nbsp;None,</div></div><div class=\"1380\" style=\"display: none;\"><div style=\"display: table-cell;\"></div><div style=\"display: table-cell;\">min_height&nbsp;=&nbsp;None,</div></div><div class=\"1380\" style=\"display: none;\"><div style=\"display: table-cell;\"></div><div style=\"display: table-cell;\">min_width&nbsp;=&nbsp;None,</div></div><div class=\"1380\" style=\"display: none;\"><div style=\"display: table-cell;\"></div><div style=\"display: table-cell;\">name&nbsp;=&nbsp;None,</div></div><div class=\"1380\" style=\"display: none;\"><div style=\"display: table-cell;\"></div><div style=\"display: table-cell;\">outline_line_alpha&nbsp;=&nbsp;1.0,</div></div><div class=\"1380\" style=\"display: none;\"><div style=\"display: table-cell;\"></div><div style=\"display: table-cell;\">outline_line_cap&nbsp;=&nbsp;'butt',</div></div><div class=\"1380\" style=\"display: none;\"><div style=\"display: table-cell;\"></div><div style=\"display: table-cell;\">outline_line_color&nbsp;=&nbsp;'#e5e5e5',</div></div><div class=\"1380\" style=\"display: none;\"><div style=\"display: table-cell;\"></div><div style=\"display: table-cell;\">outline_line_dash&nbsp;=&nbsp;[],</div></div><div class=\"1380\" style=\"display: none;\"><div style=\"display: table-cell;\"></div><div style=\"display: table-cell;\">outline_line_dash_offset&nbsp;=&nbsp;0,</div></div><div class=\"1380\" style=\"display: none;\"><div style=\"display: table-cell;\"></div><div style=\"display: table-cell;\">outline_line_join&nbsp;=&nbsp;'bevel',</div></div><div class=\"1380\" style=\"display: none;\"><div style=\"display: table-cell;\"></div><div style=\"display: table-cell;\">outline_line_width&nbsp;=&nbsp;1,</div></div><div class=\"1380\" style=\"display: none;\"><div style=\"display: table-cell;\"></div><div style=\"display: table-cell;\">output_backend&nbsp;=&nbsp;'canvas',</div></div><div class=\"1380\" style=\"display: none;\"><div style=\"display: table-cell;\"></div><div style=\"display: table-cell;\">plot_height&nbsp;=&nbsp;600,</div></div><div class=\"1380\" style=\"display: none;\"><div style=\"display: table-cell;\"></div><div style=\"display: table-cell;\">plot_width&nbsp;=&nbsp;600,</div></div><div class=\"1380\" style=\"display: none;\"><div style=\"display: table-cell;\"></div><div style=\"display: table-cell;\">renderers&nbsp;=&nbsp;[GlyphRenderer(id='1282', ...), GlyphRenderer(id='1287', ...)],</div></div><div class=\"1380\" style=\"display: none;\"><div style=\"display: table-cell;\"></div><div style=\"display: table-cell;\">reset_policy&nbsp;=&nbsp;'standard',</div></div><div class=\"1380\" style=\"display: none;\"><div style=\"display: table-cell;\"></div><div style=\"display: table-cell;\">right&nbsp;=&nbsp;[],</div></div><div class=\"1380\" style=\"display: none;\"><div style=\"display: table-cell;\"></div><div style=\"display: table-cell;\">sizing_mode&nbsp;=&nbsp;None,</div></div><div class=\"1380\" style=\"display: none;\"><div style=\"display: table-cell;\"></div><div style=\"display: table-cell;\">subscribed_events&nbsp;=&nbsp;[],</div></div><div class=\"1380\" style=\"display: none;\"><div style=\"display: table-cell;\"></div><div style=\"display: table-cell;\">tags&nbsp;=&nbsp;[],</div></div><div class=\"1380\" style=\"display: none;\"><div style=\"display: table-cell;\"></div><div style=\"display: table-cell;\">title&nbsp;=&nbsp;Title(id='1247', ...),</div></div><div class=\"1380\" style=\"display: none;\"><div style=\"display: table-cell;\"></div><div style=\"display: table-cell;\">title_location&nbsp;=&nbsp;'above',</div></div><div class=\"1380\" style=\"display: none;\"><div style=\"display: table-cell;\"></div><div style=\"display: table-cell;\">toolbar&nbsp;=&nbsp;Toolbar(id='1272', ...),</div></div><div class=\"1380\" style=\"display: none;\"><div style=\"display: table-cell;\"></div><div style=\"display: table-cell;\">toolbar_location&nbsp;=&nbsp;'right',</div></div><div class=\"1380\" style=\"display: none;\"><div style=\"display: table-cell;\"></div><div style=\"display: table-cell;\">toolbar_sticky&nbsp;=&nbsp;True,</div></div><div class=\"1380\" style=\"display: none;\"><div style=\"display: table-cell;\"></div><div style=\"display: table-cell;\">visible&nbsp;=&nbsp;True,</div></div><div class=\"1380\" style=\"display: none;\"><div style=\"display: table-cell;\"></div><div style=\"display: table-cell;\">width&nbsp;=&nbsp;None,</div></div><div class=\"1380\" style=\"display: none;\"><div style=\"display: table-cell;\"></div><div style=\"display: table-cell;\">width_policy&nbsp;=&nbsp;'auto',</div></div><div class=\"1380\" style=\"display: none;\"><div style=\"display: table-cell;\"></div><div style=\"display: table-cell;\">x_range&nbsp;=&nbsp;Range1d(id='1249', ...),</div></div><div class=\"1380\" style=\"display: none;\"><div style=\"display: table-cell;\"></div><div style=\"display: table-cell;\">x_scale&nbsp;=&nbsp;LinearScale(id='1253', ...),</div></div><div class=\"1380\" style=\"display: none;\"><div style=\"display: table-cell;\"></div><div style=\"display: table-cell;\">y_range&nbsp;=&nbsp;Range1d(id='1251', ...),</div></div><div class=\"1380\" style=\"display: none;\"><div style=\"display: table-cell;\"></div><div style=\"display: table-cell;\">y_scale&nbsp;=&nbsp;LinearScale(id='1255', ...))</div></div></div>\n",
       "<script>\n",
       "(function() {\n",
       "  var expanded = false;\n",
       "  var ellipsis = document.getElementById(\"1381\");\n",
       "  ellipsis.addEventListener(\"click\", function() {\n",
       "    var rows = document.getElementsByClassName(\"1380\");\n",
       "    for (var i = 0; i < rows.length; i++) {\n",
       "      var el = rows[i];\n",
       "      el.style.display = expanded ? \"none\" : \"table-row\";\n",
       "    }\n",
       "    ellipsis.innerHTML = expanded ? \"&hellip;)\" : \"&lsaquo;&lsaquo;&lsaquo;\";\n",
       "    expanded = !expanded;\n",
       "  });\n",
       "})();\n",
       "</script>\n"
      ],
      "text/plain": [
       "Figure(id='1246', ...)"
      ]
     },
     "execution_count": 27,
     "metadata": {},
     "output_type": "execute_result"
    }
   ],
   "source": [
    "df[\"e_value\"] = np.linspace(0, 1, len(a))\n",
    "df[\"p_s_value\"] = a\n",
    "\n",
    "show_qq_plot(df, 'e_value', 'p_s_value')"
   ]
  },
  {
   "cell_type": "code",
   "execution_count": null,
   "metadata": {},
   "outputs": [],
   "source": [
    "from bokeh.plotting import figure\n",
    "from bokeh.io import output_notebook, push_notebook, show\n",
    "\n",
    "output_notebook()\n",
    "\n",
    "plot = figure()\n",
    "plot.circle(-np.log10(expect_p+1e-10), -np.log10(a))\n",
    "\n",
    "handle = show(plot, notebook_handle=True)\n",
    "\n",
    "# Update the plot title in the earlier cell\n",
    "plot.title.text = \"qqplot\"\n",
    "push_notebook(handle=handle)"
   ]
  },
  {
   "cell_type": "code",
   "execution_count": null,
   "metadata": {},
   "outputs": [],
   "source": [
    "!wget https://www.broadinstitute.org/files/shared/diabetes/scandinavs/DGI_chr3_pvals.txt"
   ]
  },
  {
   "cell_type": "code",
   "execution_count": null,
   "metadata": {},
   "outputs": [],
   "source": [
    "pvals = []\n",
    "with open('DGI_chr3_pvals.txt') as f:\n",
    "    for r in f:\n",
    "        r = r.strip()\n",
    "        if r == 'PVAL':\n",
    "            continue\n",
    "        pvals.append(float(r))\n",
    "pvals = np.array(pvals)"
   ]
  },
  {
   "cell_type": "code",
   "execution_count": null,
   "metadata": {},
   "outputs": [],
   "source": [
    "pvals.sort()\n",
    "expect_p = np.linspace(0, 1, len(pvals))"
   ]
  },
  {
   "cell_type": "code",
   "execution_count": null,
   "metadata": {},
   "outputs": [],
   "source": [
    "plt.plot(-np.log10(expect_p), -np.log10(pvals), '.')\n",
    "plt.plot([0,5],[0,5])"
   ]
  },
  {
   "cell_type": "code",
   "execution_count": null,
   "metadata": {},
   "outputs": [],
   "source": [
    "from bokeh.plotting import figure\n",
    "from bokeh.io import output_notebook, push_notebook, show\n",
    "f#rom bokeh.models import Range1d\n",
    "\n",
    "output_notebook()\n",
    "\n",
    "\n",
    "plot = figure(plot_width=300, plot_height=300, \n",
    "              y_range=(0,5),\n",
    "              x_range=(0,5))\n",
    "plot.circle(-np.log10(expect_p+1e-10), -np.log10(pvals))\n",
    "plot.line([0,5],[0,5])\n",
    "\n",
    "handle = show(plot, notebook_handle=True)\n",
    "\n",
    "# Update the plot title in the earlier cell\n",
    "plot.title.text = \"qqplot\"\n",
    "push_notebook(handle=handle)"
   ]
  },
  {
   "cell_type": "code",
   "execution_count": null,
   "metadata": {},
   "outputs": [],
   "source": [
    "pvals"
   ]
  }
 ],
 "metadata": {
  "kernelspec": {
   "display_name": "Python 3",
   "language": "python",
   "name": "python3"
  },
  "language_info": {
   "codemirror_mode": {
    "name": "ipython",
    "version": 3
   },
   "file_extension": ".py",
   "mimetype": "text/x-python",
   "name": "python",
   "nbconvert_exporter": "python",
   "pygments_lexer": "ipython3",
   "version": "3.8.5"
  }
 },
 "nbformat": 4,
 "nbformat_minor": 4
}
